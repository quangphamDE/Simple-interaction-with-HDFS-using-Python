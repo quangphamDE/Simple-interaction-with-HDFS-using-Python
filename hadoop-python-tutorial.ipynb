{
 "cells": [
  {
   "cell_type": "markdown",
   "metadata": {},
   "source": [
    "# <a href=\"https://hdfscli.readthedocs.io/_/downloads/en/stable/pdf/\">Full documentation</a>"
   ]
  },
  {
   "cell_type": "code",
   "execution_count": 36,
   "metadata": {},
   "outputs": [],
   "source": [
    "from hdfs import InsecureClient\n",
    "import requests\n",
    "import subprocess"
   ]
  },
  {
   "cell_type": "code",
   "execution_count": 37,
   "metadata": {},
   "outputs": [],
   "source": [
    "# Disable hdfs safe mode\n",
    "command = \"docker exec namenode hdfs dfsadmin -safemode leave\"\n",
    "result = subprocess.run(command, shell=True, capture_output=True, text=True)"
   ]
  },
  {
   "cell_type": "code",
   "execution_count": 38,
   "metadata": {},
   "outputs": [],
   "source": [
    "client = InsecureClient('http://localhost:9870', user='hadoop')"
   ]
  },
  {
   "cell_type": "code",
   "execution_count": 39,
   "metadata": {},
   "outputs": [],
   "source": [
    "client.makedirs(\"/user\")"
   ]
  },
  {
   "cell_type": "code",
   "execution_count": 40,
   "metadata": {},
   "outputs": [
    {
     "name": "stdout",
     "output_type": "stream",
     "text": [
      "['data.txt', 'my_hdfs']\n"
     ]
    }
   ],
   "source": [
    "print(client.list('/user'))"
   ]
  },
  {
   "cell_type": "markdown",
   "metadata": {},
   "source": [
    "__Upload file to HDFS__"
   ]
  },
  {
   "cell_type": "code",
   "execution_count": 41,
   "metadata": {},
   "outputs": [
    {
     "name": "stdout",
     "output_type": "stream",
     "text": [
      "HTTPConnectionPool(host='30093df3ab0a', port=9864): Max retries exceeded with url: /webhdfs/v1/user/my_hdfs/data2.txt?op=CREATE&user.name=hadoop&namenoderpcaddress=namenode:9000&createflag=&createparent=true&overwrite=false&user.name=hadoop (Caused by NameResolutionError(\"<urllib3.connection.HTTPConnection object at 0x0000013C046EC530>: Failed to resolve '30093df3ab0a' ([Errno 11001] getaddrinfo failed)\"))\n"
     ]
    }
   ],
   "source": [
    "try:\n",
    "    client.upload('/user/my_hdfs', 'data2.txt')\n",
    "except Exception as e:\n",
    "    print(e)"
   ]
  },
  {
   "cell_type": "code",
   "execution_count": 42,
   "metadata": {},
   "outputs": [
    {
     "name": "stdout",
     "output_type": "stream",
     "text": [
      "File /user/my_hdfs/data2.txt not found.\n"
     ]
    }
   ],
   "source": [
    "try:\n",
    "    with client.read('/user/my_hdfs/data2.txt', encoding='utf-8') as reader:\n",
    "        content = reader.read()\n",
    "        print(content)\n",
    "except Exception as e:\n",
    "    print(e)"
   ]
  }
 ],
 "metadata": {
  "kernelspec": {
   "display_name": "venv",
   "language": "python",
   "name": "python3"
  },
  "language_info": {
   "codemirror_mode": {
    "name": "ipython",
    "version": 3
   },
   "file_extension": ".py",
   "mimetype": "text/x-python",
   "name": "python",
   "nbconvert_exporter": "python",
   "pygments_lexer": "ipython3",
   "version": "3.12.5"
  }
 },
 "nbformat": 4,
 "nbformat_minor": 2
}
